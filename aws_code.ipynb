{
 "cells": [
  {
   "cell_type": "code",
   "execution_count": 1,
   "metadata": {},
   "outputs": [
    {
     "data": {
      "text/plain": [
       "True"
      ]
     },
     "execution_count": 1,
     "metadata": {},
     "output_type": "execute_result"
    }
   ],
   "source": [
    "from dotenv import load_dotenv\n",
    "import os\n",
    "\n",
    "load_dotenv()"
   ]
  },
  {
   "cell_type": "code",
   "execution_count": 3,
   "metadata": {},
   "outputs": [
    {
     "data": {
      "text/plain": [
       "[1754383108, 'Berlin', 18.46, 18.74, 'moderate rain']"
      ]
     },
     "execution_count": 3,
     "metadata": {},
     "output_type": "execute_result"
    }
   ],
   "source": [
    "# function 1\n",
    "\n",
    "import requests\n",
    "\n",
    "api_key = os.getenv(\"WEATHER_APIKEY\")\n",
    "\n",
    "endpoint = f\"http://api.openweathermap.org/data/2.5/weather?units=metric&appid={api_key}&q=berlin\"\n",
    "\n",
    "response = requests.get(endpoint)\n",
    "\n",
    "if response.status_code == 200:\n",
    "    response_json = response.json()\n",
    "    weather_date = response_json[\"dt\"]\n",
    "    weather_city = response_json[\"name\"]\n",
    "    weather_temp = response_json[\"main\"][\"temp\"]\n",
    "    weather_feels = response_json[\"main\"][\"feels_like\"]\n",
    "    weather_description = response_json[\"weather\"][0][\"description\"]\n",
    "\n",
    "    data = [weather_date, weather_city, weather_temp, weather_feels, weather_description]\n",
    "\n",
    "data"
   ]
  },
  {
   "cell_type": "code",
   "execution_count": 6,
   "metadata": {},
   "outputs": [
    {
     "data": {
      "text/plain": [
       "<Response [200]>"
      ]
     },
     "execution_count": 6,
     "metadata": {},
     "output_type": "execute_result"
    }
   ],
   "source": [
    "response"
   ]
  },
  {
   "cell_type": "code",
   "execution_count": null,
   "metadata": {},
   "outputs": [],
   "source": [
    "# function 2\n",
    "\n",
    "import psycopg\n",
    "import datetime as dt\n",
    "\n",
    "dbconn = os.getenv(\"DBCONN\")\n",
    "conn = psycopg.connect(dbconn)\n",
    "cur = conn.cursor()\n",
    "\n",
    "# convert to date datatype in second function to avoid json type limitations between functions\n",
    "data[0] = dt.datetime.fromtimestamp(data[0])\n",
    "\n",
    "cur.execute(\n",
    "    '''\n",
    "        INSERT INTO weather_data(date, city, temp, feels, description)\n",
    "        VALUES (%s, %s, %s, %s, %s);\n",
    "    ''', \n",
    "    data\n",
    ")\n",
    "\n",
    "conn.commit()\n",
    "cur.close()\n",
    "conn.close()"
   ]
  }
 ],
 "metadata": {
  "kernelspec": {
   "display_name": "CAB_Module3",
   "language": "python",
   "name": "python3"
  },
  "language_info": {
   "codemirror_mode": {
    "name": "ipython",
    "version": 3
   },
   "file_extension": ".py",
   "mimetype": "text/x-python",
   "name": "python",
   "nbconvert_exporter": "python",
   "pygments_lexer": "ipython3",
   "version": "3.12.8"
  }
 },
 "nbformat": 4,
 "nbformat_minor": 2
}

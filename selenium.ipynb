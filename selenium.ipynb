{
 "cells": [
  {
   "cell_type": "markdown",
   "metadata": {},
   "source": [
    "## Selenium\n",
    "\n",
    "If the page you are scraping from is generated dynamically, you will need to use a more advanced library like [**Selenium**](https://www.selenium.dev/documentation/webdriver/). This software is actually designed for **testing** websites by automating a process a human would otherwise need to do manually - use the website and look for bugs. It can click buttons, open menus, scroll, navigate, essentially trigger any event that a user would do while visiting the website and make sure everything performs as expected.\n",
    "\n",
    "Imitating a user's journey through the website is how we will access the data we need, since many JavaScript functions won't fire until triggered by a user event, and we want the data they return! "
   ]
  },
  {
   "cell_type": "code",
   "execution_count": null,
   "metadata": {},
   "outputs": [],
   "source": [
    "from selenium import webdriver\n",
    "import pandas as pd\n",
    "driver = webdriver.Chrome()"
   ]
  },
  {
   "cell_type": "code",
   "execution_count": null,
   "metadata": {},
   "outputs": [],
   "source": [
    "driver.quit()"
   ]
  },
  {
   "cell_type": "code",
   "execution_count": null,
   "metadata": {},
   "outputs": [],
   "source": [
    "driver = webdriver.Chrome()\n",
    "driver.get('https://example.com/')\n",
    "print(driver.page_source)"
   ]
  },
  {
   "cell_type": "code",
   "execution_count": null,
   "metadata": {},
   "outputs": [],
   "source": [
    "driver.quit()"
   ]
  },
  {
   "cell_type": "code",
   "execution_count": null,
   "metadata": {},
   "outputs": [],
   "source": [
    "driver = webdriver.Chrome()\n",
    "driver.get('https://lms.codeacademyberlin.com/')\n",
    "# manually log in\n"
   ]
  },
  {
   "cell_type": "code",
   "execution_count": null,
   "metadata": {},
   "outputs": [],
   "source": [
    "from selenium.webdriver.common.by import By\n",
    "\n",
    "posts = driver.find_elements(By.CLASS_NAME, \"MuiPaper-root.MuiCard-root.sc-ikkxIA.iXIOzD.MuiPaper-elevation1.MuiPaper-rounded\")\n",
    "posts"
   ]
  },
  {
   "cell_type": "code",
   "execution_count": null,
   "metadata": {},
   "outputs": [],
   "source": [
    "poster = []\n",
    "titles = []\n",
    "content = []\n",
    "\n",
    "for post in posts:\n",
    "  print(\"running\")\n",
    "  poster.append(post.find_element(By.CSS_SELECTOR, \"span.MuiTypography-displayBlock\").text)\n",
    "  titles.append(post.find_element(By.CSS_SELECTOR, \"h2.MuiTypography-root.sc-kpDqfm.jflsKu.MuiTypography-h2\").text)\n",
    "  try:\n",
    "    content.append(post.find_element(By.CSS_SELECTOR, \"div.wmde-markdown.wmde-markdown-color \").text)\n",
    "  except:\n",
    "    content.append(\"\")\n",
    "\n",
    "posts_df = pd.DataFrame({\n",
    "  'title': titles,\n",
    "  'posted_by': poster,\n",
    "  'content': content\n",
    "})\n",
    "\n",
    "posts_df"
   ]
  },
  {
   "cell_type": "code",
   "execution_count": null,
   "metadata": {},
   "outputs": [],
   "source": [
    "# make a new comment then delete it\n",
    "inputs = posts[0].find_elements(By.TAG_NAME, \"input\")\n",
    "# input.send_keys('testing')\n",
    "inputs[1].send_keys(\"testing\")"
   ]
  },
  {
   "cell_type": "code",
   "execution_count": null,
   "metadata": {},
   "outputs": [],
   "source": [
    "submit_button = posts[0].find_element(By.CSS_SELECTOR, 'button[type=\"submit\"]')\n",
    "submit_button.click()"
   ]
  },
  {
   "cell_type": "code",
   "execution_count": null,
   "metadata": {},
   "outputs": [],
   "source": [
    "comments_list = posts[0].find_elements(By.CLASS_NAME, \"MuiListItem-container\")\n",
    "delete_button = comments_list[-1].find_element(By.CSS_SELECTOR, 'button[aria-label=\"delete\"]')\n",
    "delete_button.click()\n"
   ]
  },
  {
   "cell_type": "code",
   "execution_count": null,
   "metadata": {},
   "outputs": [],
   "source": [
    "driver.quit()"
   ]
  }
 ],
 "metadata": {
  "kernelspec": {
   "display_name": "CAB_Module3",
   "language": "python",
   "name": "python3"
  },
  "language_info": {
   "codemirror_mode": {
    "name": "ipython",
    "version": 3
   },
   "file_extension": ".py",
   "mimetype": "text/x-python",
   "name": "python",
   "nbconvert_exporter": "python",
   "pygments_lexer": "ipython3",
   "version": "3.12.8"
  }
 },
 "nbformat": 4,
 "nbformat_minor": 2
}
